{
 "cells": [
  {
   "cell_type": "markdown",
   "id": "0dcd9d72-a9cf-4b4e-9559-f5d5baf91e8d",
   "metadata": {},
   "source": [
    "### Types of Graphs for our lab report\n",
    "\n",
    "- [X] plan histgrams graphs for data collection section of paper \n",
    "- [X] Plan historams of data from day 1 of the lab\n",
    "- [ ] Combined lead thickness experiment for 40ms wait time - histograms\n",
    "- [ ] Combined lead thickness experiment for 80ms wait time - histograms\n",
    "- asdfasasdd"
   ]
  },
  {
   "cell_type": "code",
   "execution_count": 1,
   "id": "212d29d9-0b64-45ee-9dcd-0629971b9598",
   "metadata": {},
   "outputs": [
    {
     "name": "stderr",
     "output_type": "stream",
     "text": [
      "Fontconfig warning: ignoring UTF-8: not a valid region tag\n",
      "Matplotlib is building the font cache; this may take a moment.\n"
     ]
    }
   ],
   "source": [
    "# look at foo3 and foo4\n",
    "\n",
    "import pandas as pd\n",
    "import matplotlib.pyplot as plt\n",
    "from scipy.optimize import curve_fit\n",
    "import numpy as np\n",
    "import csv\n",
    "from scipy.stats import norm\n",
    "import seaborn as sns\n",
    "\n",
    "\n",
    "\n",
    "def lvm_to_csv(lvm_filename, csv_filename):\n",
    "    # Open the LVM file for reading\n",
    "    with open(lvm_filename, 'r') as lvm_file:\n",
    "        # Read the entire file into memory\n",
    "        lines = lvm_file.readlines()\n",
    "\n",
    "    data_lines = lines\n",
    "\n",
    "    # Open the CSV file for writing\n",
    "    with open(csv_filename, 'w', newline='') as csv_file:\n",
    "        writer = csv.writer(csv_file)\n",
    "        \n",
    "        colums = \"Time\tCol1\tCol2\tScale\"\n",
    "        writer.writerow( colums.strip().split() )\n",
    "        \n",
    "        \n",
    "        # Write data to CSV file\n",
    "        for line in data_lines:\n",
    "            # Split the line into values based on whitespace or specific delimiter\n",
    "            values = line.strip().split()\n",
    "            writer.writerow(values)"
   ]
  },
  {
   "cell_type": "markdown",
   "id": "98e5ce3b-7ac2-46b0-adaf-a2efc2161164",
   "metadata": {},
   "source": [
    "## load data files"
   ]
  },
  {
   "cell_type": "code",
   "execution_count": 2,
   "id": "328a2e08-f71e-4122-9d03-33cefcbe9889",
   "metadata": {},
   "outputs": [],
   "source": [
    "\n",
    "# Convert an example LVM file to CSV\n",
    "# lvm_to_csv('./data/30Jan2024_No Cobalt_RunTime_300s_WaitTime_80s.lvm', './data_csv/30Jan2024_No Cobalt_RunTime_300s_WaitTime_80s.csv')\n",
    "lvm_to_csv('./data/26Jan2024_RunT_240000s_WaitT_1000ms_Experiment1.lvm', './data_csv/26Jan2024_RunT_240000s_WaitT_1000ms_Experiment1.csv')\n",
    "\n",
    "# data = pd.read_csv(\"./data_csv/30Jan2024_No Cobalt_RunTime_300s_WaitTime_80s.csv\")\n",
    "data = pd.read_csv(\"./data_csv/26Jan2024_RunT_240000s_WaitT_1000ms_Experiment1.csv\")\n",
    "\n",
    "\n",
    "\n",
    "\n",
    "# convert data for foo3\n",
    "\n",
    "\n",
    "lvm_to_csv(\"./data/30Jan2024_No Cobalt_RunTime_300s_WaitTime_80s.lvm\", './data_csv/30Jan2024_No Cobalt_RunTime_300s_WaitTime_80s.csv')\n",
    "lvm_to_csv(\"./data/30Jan2024_1.530mm_RunTime_300s_WaitTime_80ms.lvm\", './data_csv/30Jan2024_1.530mm_RunTime_300s_WaitTime_80ms.csv')\n",
    "lvm_to_csv(\"./data/30Jan2024_3.060mm_RunTime_300s_WaitTime_80ms.lvm\", './data_csv/30Jan2024_3.060mm_RunTime_300s_WaitTime_80ms.csv')\n",
    "lvm_to_csv(\"./data/30Jan2024_5.860mm_RunTime_300s_WaitTime_80ms.lvm\", './data_csv/30Jan2024_5.860mm_RunTime_300s_WaitTime_80ms.csv')\n",
    "lvm_to_csv(\"./data/30Jan2024_8.670mm_RunTime_300s_WaitTime_80ms.lvm\", './data_csv/30Jan2024_8.670mm_RunTime_300s_WaitTime_80ms.csv')\n",
    "lvm_to_csv(\"./data/30Jan2024_14.500mm_RunTime_300s_WaitTime_80ms.lvm\", './data_csv/30Jan2024_14.500mm_RunTime_300s_WaitTime_80ms.csv')\n",
    "lvm_to_csv(\"./data/30Jan2024_20.300mm_RunTime_300s_WaitTime_80ms.lvm\", './data_csv/30Jan2024_20.300mm_RunTime_300s_WaitTime_80ms.csv')\n",
    "lvm_to_csv(\"./data/30Jan2024_29.000mm_RunTime_300s_WaitTime_80ms.lvm\", './data_csv/30Jan2024_29.000mm_RunTime_300s_WaitTime_80ms.csv')\n",
    "\n"
   ]
  },
  {
   "cell_type": "code",
   "execution_count": 3,
   "id": "688979df-3e66-4995-bb70-b43a16fb151b",
   "metadata": {
    "scrolled": true
   },
   "outputs": [
    {
     "name": "stdout",
     "output_type": "stream",
     "text": [
      "<class 'pandas.core.frame.DataFrame'>\n",
      "RangeIndex: 239999 entries, 0 to 239998\n",
      "Data columns (total 4 columns):\n",
      " #   Column  Non-Null Count   Dtype  \n",
      "---  ------  --------------   -----  \n",
      " 0   Time    239999 non-null  float64\n",
      " 1   Col1    239999 non-null  float64\n",
      " 2   Col2    239999 non-null  float64\n",
      " 3   Scale   239999 non-null  float64\n",
      "dtypes: float64(4)\n",
      "memory usage: 7.3 MB\n"
     ]
    },
    {
     "data": {
      "text/html": [
       "<div>\n",
       "<style scoped>\n",
       "    .dataframe tbody tr th:only-of-type {\n",
       "        vertical-align: middle;\n",
       "    }\n",
       "\n",
       "    .dataframe tbody tr th {\n",
       "        vertical-align: top;\n",
       "    }\n",
       "\n",
       "    .dataframe thead th {\n",
       "        text-align: right;\n",
       "    }\n",
       "</style>\n",
       "<table border=\"1\" class=\"dataframe\">\n",
       "  <thead>\n",
       "    <tr style=\"text-align: right;\">\n",
       "      <th></th>\n",
       "      <th>Time</th>\n",
       "      <th>Col1</th>\n",
       "      <th>Col2</th>\n",
       "      <th>Scale</th>\n",
       "    </tr>\n",
       "  </thead>\n",
       "  <tbody>\n",
       "    <tr>\n",
       "      <th>0</th>\n",
       "      <td>1.0</td>\n",
       "      <td>158.0</td>\n",
       "      <td>185.0</td>\n",
       "      <td>0.100004</td>\n",
       "    </tr>\n",
       "    <tr>\n",
       "      <th>1</th>\n",
       "      <td>2.0</td>\n",
       "      <td>172.0</td>\n",
       "      <td>200.0</td>\n",
       "      <td>0.100007</td>\n",
       "    </tr>\n",
       "    <tr>\n",
       "      <th>2</th>\n",
       "      <td>3.0</td>\n",
       "      <td>144.0</td>\n",
       "      <td>196.0</td>\n",
       "      <td>0.100011</td>\n",
       "    </tr>\n",
       "    <tr>\n",
       "      <th>3</th>\n",
       "      <td>4.0</td>\n",
       "      <td>141.0</td>\n",
       "      <td>211.0</td>\n",
       "      <td>0.100015</td>\n",
       "    </tr>\n",
       "    <tr>\n",
       "      <th>4</th>\n",
       "      <td>5.0</td>\n",
       "      <td>148.0</td>\n",
       "      <td>229.0</td>\n",
       "      <td>0.100019</td>\n",
       "    </tr>\n",
       "  </tbody>\n",
       "</table>\n",
       "</div>"
      ],
      "text/plain": [
       "   Time   Col1   Col2     Scale\n",
       "0   1.0  158.0  185.0  0.100004\n",
       "1   2.0  172.0  200.0  0.100007\n",
       "2   3.0  144.0  196.0  0.100011\n",
       "3   4.0  141.0  211.0  0.100015\n",
       "4   5.0  148.0  229.0  0.100019"
      ]
     },
     "execution_count": 3,
     "metadata": {},
     "output_type": "execute_result"
    }
   ],
   "source": [
    "data.info()\n",
    "data.describe()\n",
    "data.head()"
   ]
  },
  {
   "cell_type": "code",
   "execution_count": 6,
   "id": "009518c1-0049-426b-b303-d28015f48aa1",
   "metadata": {},
   "outputs": [
    {
     "ename": "SyntaxError",
     "evalue": "unterminated string literal (detected at line 24) (2552038617.py, line 24)",
     "output_type": "error",
     "traceback": [
      "\u001b[0;36m  Cell \u001b[0;32mIn[6], line 24\u001b[0;36m\u001b[0m\n\u001b[0;31m    plt.savefig(\")\u001b[0m\n\u001b[0m                ^\u001b[0m\n\u001b[0;31mSyntaxError\u001b[0m\u001b[0;31m:\u001b[0m unterminated string literal (detected at line 24)\n"
     ]
    }
   ],
   "source": [
    "# Set the aesthetics for the plots\n",
    "sns.set_style(\"whitegrid\")\n",
    "\n",
    "MinCountRange = min(data['Col1'].min(), data['Col2'].min())\n",
    "MaxCountRange = max(data['Col2'].max(), data['Col2'].max())\n",
    "\n",
    "# Creating histograms for Col1 and Col2\n",
    "fig, ax = plt.subplots(1, 2, figsize=(14, 6))\n",
    "\n",
    "# Plot for Col1\n",
    "sns.histplot(data['Col1'], bins=np.arange( MinCountRange , MaxCountRange + 1, 1), binrange=(0,MaxCountRange), kde=True, ax=ax[0], color='skyblue')\n",
    "ax[0].set_title('Histogram of Col1')\n",
    "ax[0].set_xlabel('Col1')\n",
    "ax[0].set_ylabel('Counts')\n",
    "\n",
    "# Plot for Col2\n",
    "sns.histplot(data['Col2'], bins=np.arange( MinCountRange , MaxCountRange + 1, 1), binrange=(0,MaxCountRange) ,kde=True, ax=ax[1], color='lightgreen')\n",
    "ax[1].set_title('Histogram of Col2')\n",
    "ax[1].set_xlabel('Col2')\n",
    "ax[1].set_ylabel('Counts')\n",
    "\n",
    "plt.tight_layout()\n",
    "plt.show()\n",
    "plt.savefig(\")"
   ]
  },
  {
   "cell_type": "code",
   "execution_count": null,
   "id": "dcd48add-c745-4a8e-9f8a-a6c0c7294687",
   "metadata": {},
   "outputs": [
    {
     "data": {
      "text/plain": [
       "(count    239999.000000\n",
       " mean        154.749257\n",
       " std          12.408494\n",
       " min         104.000000\n",
       " 25%         146.000000\n",
       " 50%         155.000000\n",
       " 75%         163.000000\n",
       " max         213.000000\n",
       " Name: Col1, dtype: float64,\n",
       " count    239999.000000\n",
       " mean        205.537431\n",
       " std          14.415509\n",
       " min         140.000000\n",
       " 25%         196.000000\n",
       " 50%         205.000000\n",
       " 75%         215.000000\n",
       " max         272.000000\n",
       " Name: Col2, dtype: float64)"
      ]
     },
     "execution_count": 39,
     "metadata": {},
     "output_type": "execute_result"
    }
   ],
   "source": [
    "# Compute basic statistics for Col1 and Col2\n",
    "stats_col1 = data['Col1'].describe()\n",
    "stats_col2 = data['Col2'].describe()\n",
    "\n",
    "# Display the statistics\n",
    "stats_col1, stats_col2"
   ]
  },
  {
   "cell_type": "markdown",
   "id": "82304ca8-f673-491d-9295-27c57e0f1d9a",
   "metadata": {},
   "source": [
    "# --------------------------------------------------------------------"
   ]
  }
 ],
 "metadata": {
  "kernelspec": {
   "display_name": "Python 3 (ipykernel)",
   "language": "python",
   "name": "python3"
  },
  "language_info": {
   "codemirror_mode": {
    "name": "ipython",
    "version": 3
   },
   "file_extension": ".py",
   "mimetype": "text/x-python",
   "name": "python",
   "nbconvert_exporter": "python",
   "pygments_lexer": "ipython3",
   "version": "3.12.2"
  }
 },
 "nbformat": 4,
 "nbformat_minor": 5
}
